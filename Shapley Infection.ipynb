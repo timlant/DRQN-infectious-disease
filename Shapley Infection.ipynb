{
 "cells": [
  {
   "cell_type": "code",
   "execution_count": 1,
   "id": "c5146597",
   "metadata": {},
   "outputs": [],
   "source": [
    "# A Shapley Game with two players to simulate a disease infection.  \n",
    "import numpy as np\n",
    "import random"
   ]
  },
  {
   "cell_type": "code",
   "execution_count": 2,
   "id": "26279efa",
   "metadata": {},
   "outputs": [],
   "source": [
    "# Define states and actions\n",
    "states = ['Low', 'Medium', 'High']\n",
    "actions_p1 = ['Mitigate', 'DoNothing']\n",
    "actions_p2 = ['Comply', 'Resist']\n"
   ]
  },
  {
   "cell_type": "code",
   "execution_count": 3,
   "id": "ec38a719",
   "metadata": {},
   "outputs": [],
   "source": [
    "# Discount factor\n",
    "gamma = 0.9\n"
   ]
  },
  {
   "cell_type": "code",
   "execution_count": 4,
   "id": "4d1559e2",
   "metadata": {},
   "outputs": [],
   "source": [
    "# Rewards: (state, action_p1, action_p2) -> (reward_p1, reward_p2)\n",
    "reward_table = {\n",
    "    ('Low', 'Mitigate', 'Comply'): (5, 2),\n",
    "    ('Low', 'Mitigate', 'Resist'): (3, 1),\n",
    "    ('Low', 'DoNothing', 'Comply'): (2, 3),\n",
    "    ('Low', 'DoNothing', 'Resist'): (0, 5),\n",
    "\n",
    "    ('Medium', 'Mitigate', 'Comply'): (6, 1),\n",
    "    ('Medium', 'Mitigate', 'Resist'): (4, 0),\n",
    "    ('Medium', 'DoNothing', 'Comply'): (1, 4),\n",
    "    ('Medium', 'DoNothing', 'Resist'): (-2, 5),\n",
    "\n",
    "    ('High', 'Mitigate', 'Comply'): (8, -1),\n",
    "    ('High', 'Mitigate', 'Resist'): (5, -3),\n",
    "    ('High', 'DoNothing', 'Comply'): (-3, 2),\n",
    "    ('High', 'DoNothing', 'Resist'): (-5, 0),\n",
    "}\n"
   ]
  },
  {
   "cell_type": "code",
   "execution_count": 5,
   "id": "f911607b",
   "metadata": {},
   "outputs": [],
   "source": [
    "# Transition probabilities\n",
    "# From each state and action pair, what are the chances of moving to Low/Medium/High\n",
    "transition_table = {\n",
    "    ('Low', 'Mitigate', 'Comply'): [0.8, 0.2, 0.0],\n",
    "    ('Low', 'Mitigate', 'Resist'): [0.6, 0.4, 0.0],\n",
    "    ('Low', 'DoNothing', 'Comply'): [0.6, 0.4, 0.0],\n",
    "    ('Low', 'DoNothing', 'Resist'): [0.4, 0.5, 0.1],\n",
    "\n",
    "    ('Medium', 'Mitigate', 'Comply'): [0.6, 0.3, 0.1],\n",
    "    ('Medium', 'Mitigate', 'Resist'): [0.4, 0.4, 0.2],\n",
    "    ('Medium', 'DoNothing', 'Comply'): [0.3, 0.4, 0.3],\n",
    "    ('Medium', 'DoNothing', 'Resist'): [0.2, 0.3, 0.5],\n",
    "\n",
    "    ('High', 'Mitigate', 'Comply'): [0.5, 0.3, 0.2],\n",
    "    ('High', 'Mitigate', 'Resist'): [0.3, 0.4, 0.3],\n",
    "    ('High', 'DoNothing', 'Comply'): [0.2, 0.3, 0.5],\n",
    "    ('High', 'DoNothing', 'Resist'): [0.1, 0.2, 0.7],\n",
    "}"
   ]
  },
  {
   "cell_type": "code",
   "execution_count": 6,
   "id": "71adfee2",
   "metadata": {},
   "outputs": [],
   "source": [
    "# Initial state\n",
    "current_state = 'Medium'\n"
   ]
  },
  {
   "cell_type": "code",
   "execution_count": 7,
   "id": "ef17c40c",
   "metadata": {},
   "outputs": [],
   "source": [
    "# Tracking rewards\n",
    "total_reward_p1 = 0\n",
    "total_reward_p2 = 0"
   ]
  },
  {
   "cell_type": "code",
   "execution_count": 8,
   "id": "29bac3de",
   "metadata": {},
   "outputs": [],
   "source": [
    "# Policy: random actions (can be replaced with Q-learning or strategic rules)\n",
    "def sample_actions():\n",
    "    return random.choice(actions_p1), random.choice(actions_p2)"
   ]
  },
  {
   "cell_type": "code",
   "execution_count": 10,
   "id": "bc8062fc",
   "metadata": {},
   "outputs": [
    {
     "name": "stdout",
     "output_type": "stream",
     "text": [
      "Initial State: Medium\n",
      "Round 1: P1-DoNothing, P2-Resist -> State: Medium, Rewards: (-2, 5)\n",
      "Round 2: P1-Mitigate, P2-Comply -> State: Low, Rewards: (6, 1)\n",
      "Round 3: P1-DoNothing, P2-Resist -> State: Medium, Rewards: (0, 5)\n",
      "Round 4: P1-DoNothing, P2-Comply -> State: High, Rewards: (1, 4)\n",
      "Round 5: P1-DoNothing, P2-Comply -> State: High, Rewards: (-3, 2)\n",
      "Round 6: P1-Mitigate, P2-Resist -> State: High, Rewards: (5, -3)\n",
      "Round 7: P1-DoNothing, P2-Resist -> State: Medium, Rewards: (-5, 0)\n",
      "Round 8: P1-Mitigate, P2-Comply -> State: Low, Rewards: (6, 1)\n",
      "Round 9: P1-Mitigate, P2-Comply -> State: Low, Rewards: (5, 2)\n",
      "Round 10: P1-DoNothing, P2-Resist -> State: Medium, Rewards: (0, 5)\n",
      "\n",
      "Discounted Total Reward:\n",
      "  Public Health (P1): 20.86\n",
      "  Population (P2): 34.51\n"
     ]
    }
   ],
   "source": [
    "# Run game\n",
    "print(f\"Initial State: {current_state}\")\n",
    "for t in range(10):\n",
    "    action1, action2 = sample_actions()\n",
    "    rewards = reward_table[(current_state, action1, action2)]\n",
    "    total_reward_p1 += (gamma ** t) * rewards[0]\n",
    "    total_reward_p2 += (gamma ** t) * rewards[1]\n",
    "\n",
    "    trans_probs = transition_table[(current_state, action1, action2)]\n",
    "    current_state = random.choices(states, trans_probs)[0]\n",
    "\n",
    "    print(f\"Round {t+1}: P1-{action1}, P2-{action2} -> State: {current_state}, Rewards: {rewards}\")\n",
    "\n",
    "print(f\"\\nDiscounted Total Reward:\\n  Public Health (P1): {round(total_reward_p1, 2)}\\n  Population (P2): {round(total_reward_p2, 2)}\")\n"
   ]
  },
  {
   "cell_type": "code",
   "execution_count": null,
   "id": "4db6e224",
   "metadata": {},
   "outputs": [],
   "source": []
  }
 ],
 "metadata": {
  "kernelspec": {
   "display_name": "Python 3 (ipykernel)",
   "language": "python",
   "name": "python3"
  },
  "language_info": {
   "codemirror_mode": {
    "name": "ipython",
    "version": 3
   },
   "file_extension": ".py",
   "mimetype": "text/x-python",
   "name": "python",
   "nbconvert_exporter": "python",
   "pygments_lexer": "ipython3",
   "version": "3.11.7"
  }
 },
 "nbformat": 4,
 "nbformat_minor": 5
}
